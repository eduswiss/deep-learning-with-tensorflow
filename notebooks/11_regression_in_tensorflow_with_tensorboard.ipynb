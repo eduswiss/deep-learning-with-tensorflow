{
  "nbformat": 4,
  "nbformat_minor": 0,
  "metadata": {
    "colab": {
      "name": "11-regression-in-tensorflow-with-tensorboard.ipynb",
      "provenance": [],
      "authorship_tag": "ABX9TyMBK221V54pWV10h58ccdys",
      "include_colab_link": true
    },
    "kernelspec": {
      "name": "python3",
      "display_name": "Python 3"
    }
  },
  "cells": [
    {
      "cell_type": "markdown",
      "metadata": {
        "id": "view-in-github",
        "colab_type": "text"
      },
      "source": [
        "<a href=\"https://colab.research.google.com/github/eduswiss/deep-learning-with-tensorflow/blob/master/notebooks/11_regression_in_tensorflow_with_tensorboard.ipynb\" target=\"_parent\"><img src=\"https://colab.research.google.com/assets/colab-badge.svg\" alt=\"Open In Colab\"/></a>"
      ]
    },
    {
      "cell_type": "markdown",
      "metadata": {
        "id": "rTeZ52cQuOdH"
      },
      "source": [
        "# Regression Example in TensorFlow with TensorBoard"
      ]
    },
    {
      "cell_type": "markdown",
      "metadata": {
        "id": "b47ivnmCuVBv"
      },
      "source": [
        "Predicting house prices in Boston, Massachusetts while logging results for TensorBoard"
      ]
    },
    {
      "cell_type": "markdown",
      "metadata": {
        "id": "AkXlyH6quYU6"
      },
      "source": [
        "## Load dependencies"
      ]
    },
    {
      "cell_type": "markdown",
      "metadata": {
        "id": "QXIupNf6ziHB"
      },
      "source": [
        "Add import for `TensorBoard`"
      ]
    },
    {
      "cell_type": "code",
      "metadata": {
        "id": "v6VH3sFbuMo_"
      },
      "source": [
        "import numpy as np\n",
        "from tensorflow.keras.datasets import boston_housing \n",
        "from tensorflow.keras.models import Sequential\n",
        "from tensorflow.keras.layers import Dense, Dropout \n",
        "from tensorflow.keras.layers import BatchNormalization \n",
        "from tensorflow.keras.callbacks import ModelCheckpoint \n",
        "from tensorflow.keras.callbacks import TensorBoard # new!  \n",
        "import os"
      ],
      "execution_count": 1,
      "outputs": []
    },
    {
      "cell_type": "markdown",
      "metadata": {
        "id": "pJGL4ADKufeZ"
      },
      "source": [
        "## Load data"
      ]
    },
    {
      "cell_type": "code",
      "metadata": {
        "id": "7MJZ2t9Zudby"
      },
      "source": [
        "(X_train, y_train), (X_valid, y_valid) = boston_housing.load_data()"
      ],
      "execution_count": 2,
      "outputs": []
    },
    {
      "cell_type": "code",
      "metadata": {
        "id": "n8aJBIFeujBi",
        "outputId": "22378ed4-543c-4f19-8709-d2ddd969d768",
        "colab": {
          "base_uri": "https://localhost:8080/",
          "height": 34
        }
      },
      "source": [
        "X_train.shape"
      ],
      "execution_count": 3,
      "outputs": [
        {
          "output_type": "execute_result",
          "data": {
            "text/plain": [
              "(404, 13)"
            ]
          },
          "metadata": {
            "tags": []
          },
          "execution_count": 3
        }
      ]
    },
    {
      "cell_type": "code",
      "metadata": {
        "id": "SZSuN0E6ulKC",
        "outputId": "ca1f3200-2569-492b-b805-c2d3f40384b4",
        "colab": {
          "base_uri": "https://localhost:8080/",
          "height": 34
        }
      },
      "source": [
        "X_valid.shape"
      ],
      "execution_count": 4,
      "outputs": [
        {
          "output_type": "execute_result",
          "data": {
            "text/plain": [
              "(102, 13)"
            ]
          },
          "metadata": {
            "tags": []
          },
          "execution_count": 4
        }
      ]
    },
    {
      "cell_type": "code",
      "metadata": {
        "id": "f7zpMDodunlv",
        "outputId": "a656ab22-dce2-4918-8f28-63d5631479f0",
        "colab": {
          "base_uri": "https://localhost:8080/",
          "height": 68
        }
      },
      "source": [
        "X_train[0]"
      ],
      "execution_count": 5,
      "outputs": [
        {
          "output_type": "execute_result",
          "data": {
            "text/plain": [
              "array([  1.23247,   0.     ,   8.14   ,   0.     ,   0.538  ,   6.142  ,\n",
              "        91.7    ,   3.9769 ,   4.     , 307.     ,  21.     , 396.9    ,\n",
              "        18.72   ])"
            ]
          },
          "metadata": {
            "tags": []
          },
          "execution_count": 5
        }
      ]
    },
    {
      "cell_type": "code",
      "metadata": {
        "id": "xHy22FREuprw",
        "outputId": "e72b0848-2933-4789-e0fb-6906a03d8585",
        "colab": {
          "base_uri": "https://localhost:8080/",
          "height": 34
        }
      },
      "source": [
        "y_train[0]"
      ],
      "execution_count": 6,
      "outputs": [
        {
          "output_type": "execute_result",
          "data": {
            "text/plain": [
              "15.2"
            ]
          },
          "metadata": {
            "tags": []
          },
          "execution_count": 6
        }
      ]
    },
    {
      "cell_type": "markdown",
      "metadata": {
        "id": "s85QFAZEvQB1"
      },
      "source": [
        "## Design neural network architecture"
      ]
    },
    {
      "cell_type": "code",
      "metadata": {
        "id": "M4Z28nLtvIS8"
      },
      "source": [
        "model = Sequential()\n",
        "\n",
        "model.add(Dense(32, input_dim=13, activation='relu'))\n",
        "model.add(BatchNormalization())\n",
        "\n",
        "model.add(Dense(16, activation='relu'))\n",
        "model.add(BatchNormalization())\n",
        "# model.add(Dropout(0.2))\n",
        "model.add(Dropout(0.5))\n",
        "\n",
        "model.add(Dense(1, activation='linear'))"
      ],
      "execution_count": 7,
      "outputs": []
    },
    {
      "cell_type": "code",
      "metadata": {
        "id": "HCMsm9THvTqV",
        "outputId": "41a11940-ea4b-4e8c-f103-dc1202db3efd",
        "colab": {
          "base_uri": "https://localhost:8080/",
          "height": 357
        }
      },
      "source": [
        "model.summary()"
      ],
      "execution_count": 8,
      "outputs": [
        {
          "output_type": "stream",
          "text": [
            "Model: \"sequential\"\n",
            "_________________________________________________________________\n",
            "Layer (type)                 Output Shape              Param #   \n",
            "=================================================================\n",
            "dense (Dense)                (None, 32)                448       \n",
            "_________________________________________________________________\n",
            "batch_normalization (BatchNo (None, 32)                128       \n",
            "_________________________________________________________________\n",
            "dense_1 (Dense)              (None, 16)                528       \n",
            "_________________________________________________________________\n",
            "batch_normalization_1 (Batch (None, 16)                64        \n",
            "_________________________________________________________________\n",
            "dropout (Dropout)            (None, 16)                0         \n",
            "_________________________________________________________________\n",
            "dense_2 (Dense)              (None, 1)                 17        \n",
            "=================================================================\n",
            "Total params: 1,185\n",
            "Trainable params: 1,089\n",
            "Non-trainable params: 96\n",
            "_________________________________________________________________\n"
          ],
          "name": "stdout"
        }
      ]
    },
    {
      "cell_type": "markdown",
      "metadata": {
        "id": "QTTEIiY3vZu8"
      },
      "source": [
        "## Configure Model"
      ]
    },
    {
      "cell_type": "code",
      "metadata": {
        "id": "dN4b5jvnvXUH"
      },
      "source": [
        "model.compile(loss='mean_squared_error', optimizer='nadam')"
      ],
      "execution_count": 9,
      "outputs": []
    },
    {
      "cell_type": "code",
      "metadata": {
        "id": "L6nzYPaiwTvg"
      },
      "source": [
        "output_dir = 'model_output/'"
      ],
      "execution_count": 10,
      "outputs": []
    },
    {
      "cell_type": "code",
      "metadata": {
        "id": "_tkv9Vn5wkA9"
      },
      "source": [
        "run_name = 'regression_baseline'\n",
        "output_path = output_dir + run_name"
      ],
      "execution_count": 11,
      "outputs": []
    },
    {
      "cell_type": "code",
      "metadata": {
        "id": "cwoC9jeIwuBV"
      },
      "source": [
        "if not os.path.exists(output_path):\n",
        "    os.makedirs(output_path)"
      ],
      "execution_count": 12,
      "outputs": []
    },
    {
      "cell_type": "code",
      "metadata": {
        "id": "fK_MsyL5wyJ_"
      },
      "source": [
        "modelcheckpoint = ModelCheckpoint(output_path + '/weights.{epoch:02d}.hdf5', # decimal integers\n",
        "                                  save_weights_only=True)"
      ],
      "execution_count": 13,
      "outputs": []
    },
    {
      "cell_type": "markdown",
      "metadata": {
        "id": "6tGMaWlez6WM"
      },
      "source": [
        "Create TensorBoard callback."
      ]
    },
    {
      "cell_type": "code",
      "metadata": {
        "id": "bDCx5Mm-z25h"
      },
      "source": [
        "tensorboard = TensorBoard(log_dir='logs/' + run_name)"
      ],
      "execution_count": 14,
      "outputs": []
    },
    {
      "cell_type": "markdown",
      "metadata": {
        "id": "T0BTMBdZxM_i"
      },
      "source": [
        "## Train!"
      ]
    },
    {
      "cell_type": "markdown",
      "metadata": {
        "id": "Dqah75nx0QDo"
      },
      "source": [
        "Add `TensorBoard` callback to the `fit()` function."
      ]
    },
    {
      "cell_type": "code",
      "metadata": {
        "id": "sjbSRsiNxMXv",
        "outputId": "46952e46-b350-4783-eb51-770d62f17904",
        "colab": {
          "base_uri": "https://localhost:8080/",
          "height": 1000
        }
      },
      "source": [
        "model.fit(X_train, y_train, \n",
        "          batch_size=8, epochs=32, verbose=1, \n",
        "          validation_data=(X_valid, y_valid),\n",
        "          callbacks=[modelcheckpoint, tensorboard])"
      ],
      "execution_count": 15,
      "outputs": [
        {
          "output_type": "stream",
          "text": [
            "Epoch 1/32\n",
            " 1/51 [..............................] - ETA: 0s - loss: 630.6904WARNING:tensorflow:From /usr/local/lib/python3.6/dist-packages/tensorflow/python/ops/summary_ops_v2.py:1277: stop (from tensorflow.python.eager.profiler) is deprecated and will be removed after 2020-07-01.\n",
            "Instructions for updating:\n",
            "use `tf.profiler.experimental.stop` instead.\n",
            "WARNING:tensorflow:Callbacks method `on_train_batch_end` is slow compared to the batch time (batch time: 0.0085s vs `on_train_batch_end` time: 0.0208s). Check your callbacks.\n",
            "51/51 [==============================] - 0s 6ms/step - loss: 578.5701 - val_loss: 527.7381\n",
            "Epoch 2/32\n",
            "51/51 [==============================] - 0s 2ms/step - loss: 566.7703 - val_loss: 577.8136\n",
            "Epoch 3/32\n",
            "51/51 [==============================] - 0s 2ms/step - loss: 554.7806 - val_loss: 594.1018\n",
            "Epoch 4/32\n",
            "51/51 [==============================] - 0s 2ms/step - loss: 537.9033 - val_loss: 571.4468\n",
            "Epoch 5/32\n",
            "51/51 [==============================] - 0s 2ms/step - loss: 522.5831 - val_loss: 551.6610\n",
            "Epoch 6/32\n",
            "51/51 [==============================] - 0s 2ms/step - loss: 501.9771 - val_loss: 531.2451\n",
            "Epoch 7/32\n",
            "51/51 [==============================] - 0s 2ms/step - loss: 480.5427 - val_loss: 455.5066\n",
            "Epoch 8/32\n",
            "51/51 [==============================] - 0s 2ms/step - loss: 463.6250 - val_loss: 504.1913\n",
            "Epoch 9/32\n",
            "51/51 [==============================] - 0s 2ms/step - loss: 425.4433 - val_loss: 482.9288\n",
            "Epoch 10/32\n",
            "51/51 [==============================] - 0s 2ms/step - loss: 390.6028 - val_loss: 491.0107\n",
            "Epoch 11/32\n",
            "51/51 [==============================] - 0s 2ms/step - loss: 360.7478 - val_loss: 426.4194\n",
            "Epoch 12/32\n",
            "51/51 [==============================] - 0s 2ms/step - loss: 324.4286 - val_loss: 405.7666\n",
            "Epoch 13/32\n",
            "51/51 [==============================] - 0s 2ms/step - loss: 294.7644 - val_loss: 375.8601\n",
            "Epoch 14/32\n",
            "51/51 [==============================] - 0s 2ms/step - loss: 261.4723 - val_loss: 314.7188\n",
            "Epoch 15/32\n",
            "51/51 [==============================] - 0s 2ms/step - loss: 223.6936 - val_loss: 282.1082\n",
            "Epoch 16/32\n",
            "51/51 [==============================] - 0s 2ms/step - loss: 202.6889 - val_loss: 297.2872\n",
            "Epoch 17/32\n",
            "51/51 [==============================] - 0s 2ms/step - loss: 173.5637 - val_loss: 217.2905\n",
            "Epoch 18/32\n",
            "51/51 [==============================] - 0s 2ms/step - loss: 151.7389 - val_loss: 104.2463\n",
            "Epoch 19/32\n",
            "51/51 [==============================] - 0s 2ms/step - loss: 129.2341 - val_loss: 80.1726\n",
            "Epoch 20/32\n",
            "51/51 [==============================] - 0s 2ms/step - loss: 121.7561 - val_loss: 83.1153\n",
            "Epoch 21/32\n",
            "51/51 [==============================] - 0s 2ms/step - loss: 102.8998 - val_loss: 157.6150\n",
            "Epoch 22/32\n",
            "51/51 [==============================] - 0s 2ms/step - loss: 93.7470 - val_loss: 87.9362\n",
            "Epoch 23/32\n",
            "51/51 [==============================] - 0s 2ms/step - loss: 92.0242 - val_loss: 56.5795\n",
            "Epoch 24/32\n",
            "51/51 [==============================] - 0s 2ms/step - loss: 76.3333 - val_loss: 57.1081\n",
            "Epoch 25/32\n",
            "51/51 [==============================] - 0s 2ms/step - loss: 92.0462 - val_loss: 47.1633\n",
            "Epoch 26/32\n",
            "51/51 [==============================] - 0s 2ms/step - loss: 75.4135 - val_loss: 41.1976\n",
            "Epoch 27/32\n",
            "51/51 [==============================] - 0s 2ms/step - loss: 77.8751 - val_loss: 74.9317\n",
            "Epoch 28/32\n",
            "51/51 [==============================] - 0s 2ms/step - loss: 80.0555 - val_loss: 34.6360\n",
            "Epoch 29/32\n",
            "51/51 [==============================] - 0s 2ms/step - loss: 70.9756 - val_loss: 35.0064\n",
            "Epoch 30/32\n",
            "51/51 [==============================] - 0s 2ms/step - loss: 68.3200 - val_loss: 37.4475\n",
            "Epoch 31/32\n",
            "51/51 [==============================] - 0s 2ms/step - loss: 75.4959 - val_loss: 48.5750\n",
            "Epoch 32/32\n",
            "51/51 [==============================] - 0s 2ms/step - loss: 74.0284 - val_loss: 34.5980\n"
          ],
          "name": "stdout"
        },
        {
          "output_type": "execute_result",
          "data": {
            "text/plain": [
              "<tensorflow.python.keras.callbacks.History at 0x7f66c3aec518>"
            ]
          },
          "metadata": {
            "tags": []
          },
          "execution_count": 15
        }
      ]
    },
    {
      "cell_type": "markdown",
      "metadata": {
        "id": "PKRdpFPxx1B2"
      },
      "source": [
        "## Performing inference"
      ]
    },
    {
      "cell_type": "code",
      "metadata": {
        "id": "qsIhS3gKxfD0"
      },
      "source": [
        "model.load_weights(output_path + '/weights.28.hdf5')"
      ],
      "execution_count": 16,
      "outputs": []
    },
    {
      "cell_type": "code",
      "metadata": {
        "id": "MVuMhMXfyBuX",
        "outputId": "d7e6120b-eed6-493c-d6c2-5286aaa641bf",
        "colab": {
          "base_uri": "https://localhost:8080/",
          "height": 68
        }
      },
      "source": [
        "X_valid[42]"
      ],
      "execution_count": 17,
      "outputs": [
        {
          "output_type": "execute_result",
          "data": {
            "text/plain": [
              "array([  9.32909,   0.     ,  18.1    ,   0.     ,   0.713  ,   6.185  ,\n",
              "        98.7    ,   2.2616 ,  24.     , 666.     ,  20.2    , 396.9    ,\n",
              "        18.13   ])"
            ]
          },
          "metadata": {
            "tags": []
          },
          "execution_count": 17
        }
      ]
    },
    {
      "cell_type": "code",
      "metadata": {
        "id": "enBNLf2OyEeP",
        "outputId": "238d7e97-6cfd-462c-f654-46237ab889f9",
        "colab": {
          "base_uri": "https://localhost:8080/",
          "height": 34
        }
      },
      "source": [
        "y_valid[42]"
      ],
      "execution_count": 18,
      "outputs": [
        {
          "output_type": "execute_result",
          "data": {
            "text/plain": [
              "14.1"
            ]
          },
          "metadata": {
            "tags": []
          },
          "execution_count": 18
        }
      ]
    },
    {
      "cell_type": "code",
      "metadata": {
        "id": "XbqVFm31yG2m",
        "outputId": "e8ccb392-c32f-4e02-b191-fbbe53a71e2e",
        "colab": {
          "base_uri": "https://localhost:8080/",
          "height": 34
        }
      },
      "source": [
        "model.predict(np.reshape(X_valid[42], [1, 13]))"
      ],
      "execution_count": 19,
      "outputs": [
        {
          "output_type": "execute_result",
          "data": {
            "text/plain": [
              "array([[12.582474]], dtype=float32)"
            ]
          },
          "metadata": {
            "tags": []
          },
          "execution_count": 19
        }
      ]
    },
    {
      "cell_type": "code",
      "metadata": {
        "id": "XIbVk1tmyQne"
      },
      "source": [
        ""
      ],
      "execution_count": 19,
      "outputs": []
    }
  ]
}