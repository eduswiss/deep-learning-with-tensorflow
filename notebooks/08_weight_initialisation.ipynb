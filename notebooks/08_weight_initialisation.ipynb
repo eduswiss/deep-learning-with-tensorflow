{
  "nbformat": 4,
  "nbformat_minor": 0,
  "metadata": {
    "colab": {
      "name": "08-weight-initialisation.ipynb",
      "provenance": [],
      "collapsed_sections": [],
      "authorship_tag": "ABX9TyP5LeegQM0xreCtw6/ieDmG",
      "include_colab_link": true
    },
    "kernelspec": {
      "name": "python3",
      "display_name": "Python 3"
    }
  },
  "cells": [
    {
      "cell_type": "markdown",
      "metadata": {
        "id": "view-in-github",
        "colab_type": "text"
      },
      "source": [
        "<a href=\"https://colab.research.google.com/github/eduswiss/deep-learning-with-tensorflow/blob/master/notebooks/08_weight_initialisation.ipynb\" target=\"_parent\"><img src=\"https://colab.research.google.com/assets/colab-badge.svg\" alt=\"Open In Colab\"/></a>"
      ]
    },
    {
      "cell_type": "markdown",
      "metadata": {
        "id": "vr0Uti0J0L6k"
      },
      "source": [
        "# Weight initialisation"
      ]
    },
    {
      "cell_type": "markdown",
      "metadata": {
        "id": "jZLQUKJC0TFb"
      },
      "source": [
        "In this notebook, we experiment with weight initialisation approaches to examine their impact on layer outputs."
      ]
    },
    {
      "cell_type": "markdown",
      "metadata": {
        "id": "ztXivhC4xewr"
      },
      "source": [
        "## Load dependencies"
      ]
    },
    {
      "cell_type": "code",
      "metadata": {
        "id": "fzTiPqB-0IOv"
      },
      "source": [
        "import numpy as np\n",
        "import matplotlib.pyplot as plt\n",
        "\n",
        "from tensorflow.keras import Sequential\n",
        "from tensorflow.keras.layers import Dense, Activation\n",
        "from tensorflow.keras.initializers import Zeros, RandomNormal, glorot_normal, glorot_uniform"
      ],
      "execution_count": 1,
      "outputs": []
    },
    {
      "cell_type": "markdown",
      "metadata": {
        "id": "rGVVEvYZxmmK"
      },
      "source": [
        "## Set number of neurons"
      ]
    },
    {
      "cell_type": "code",
      "metadata": {
        "id": "IUg-Ms2exjKm"
      },
      "source": [
        "n_input = 784\n",
        "n_dense = 256"
      ],
      "execution_count": 2,
      "outputs": []
    },
    {
      "cell_type": "markdown",
      "metadata": {
        "id": "T6s5BwnTx1Er"
      },
      "source": [
        "## Select a bias initialiser"
      ]
    },
    {
      "cell_type": "code",
      "metadata": {
        "id": "hcJ8SN_JxwMn"
      },
      "source": [
        "b_init = Zeros()"
      ],
      "execution_count": 3,
      "outputs": []
    },
    {
      "cell_type": "markdown",
      "metadata": {
        "id": "3TkJpSjLx8nl"
      },
      "source": [
        "## Select a weight initialiser"
      ]
    },
    {
      "cell_type": "code",
      "metadata": {
        "id": "FwFQZ3oKx6ts"
      },
      "source": [
        "# w_init = RandomNormal(stddev=1.0)\n",
        "w_init = glorot_normal()\n",
        "# w_init = glorot_uniform()"
      ],
      "execution_count": 4,
      "outputs": []
    },
    {
      "cell_type": "markdown",
      "metadata": {
        "id": "lrnxf0IyyS_K"
      },
      "source": [
        "## Design neural network architecture"
      ]
    },
    {
      "cell_type": "code",
      "metadata": {
        "id": "zqWzW3q6yBEj"
      },
      "source": [
        "model = Sequential()\n",
        "model.add(Dense(n_dense, \n",
        "                input_dim=n_input,\n",
        "                kernel_initializer=w_init,\n",
        "                bias_initializer=b_init))\n",
        "# model.add(Activation('sigmoid'))\n",
        "model.add(Activation('tanh'))\n",
        "# model.add(Activation('relu'))"
      ],
      "execution_count": 5,
      "outputs": []
    },
    {
      "cell_type": "markdown",
      "metadata": {
        "id": "XlRj0IWhylLL"
      },
      "source": [
        "## Generate random x values"
      ]
    },
    {
      "cell_type": "code",
      "metadata": {
        "id": "YtbEl2t5yiCB"
      },
      "source": [
        "x = np.random.random((1,n_input))"
      ],
      "execution_count": 6,
      "outputs": []
    },
    {
      "cell_type": "markdown",
      "metadata": {
        "id": "kyoDfWFGzNZN"
      },
      "source": [
        "## Forward propagate through the network"
      ]
    },
    {
      "cell_type": "code",
      "metadata": {
        "id": "PEld8ZHEyrGM"
      },
      "source": [
        "a = model.predict(x)"
      ],
      "execution_count": 7,
      "outputs": []
    },
    {
      "cell_type": "code",
      "metadata": {
        "id": "0ae5NxinzSdO",
        "outputId": "b236f44b-a64d-4ce0-ba8e-cd943bb986a0",
        "colab": {
          "base_uri": "https://localhost:8080/",
          "height": 1000
        }
      },
      "source": [
        "a"
      ],
      "execution_count": 8,
      "outputs": [
        {
          "output_type": "execute_result",
          "data": {
            "text/plain": [
              "array([[ 1.51552469e-01, -5.05015731e-01,  3.72127503e-01,\n",
              "        -9.62208629e-01, -7.82060146e-01,  2.34853297e-01,\n",
              "         3.17987651e-01,  3.64311516e-01, -5.05850911e-01,\n",
              "        -3.11161101e-01,  4.16770130e-01,  1.27549544e-01,\n",
              "        -3.56537312e-01,  4.76124108e-01,  7.26062000e-01,\n",
              "        -3.45082849e-01, -5.69218159e-01, -3.07381004e-01,\n",
              "        -1.14342585e-01,  6.26095757e-02, -9.23443258e-01,\n",
              "         5.69474101e-01, -6.42611265e-01,  8.20188522e-01,\n",
              "         8.08534682e-01, -7.60884210e-02,  5.63945651e-01,\n",
              "         5.86298525e-01, -7.13386059e-01, -9.06539038e-02,\n",
              "        -9.01958704e-01,  7.33739361e-02,  6.16066337e-01,\n",
              "        -1.99730590e-01,  8.44259709e-02,  2.50795305e-01,\n",
              "        -4.02910262e-01,  3.95449102e-01,  4.26922143e-01,\n",
              "        -8.61577615e-02, -7.61348009e-01,  1.21802181e-01,\n",
              "        -8.13114524e-01, -8.79787922e-01, -4.81294572e-01,\n",
              "         2.12342441e-01,  4.76602703e-01,  9.62760299e-02,\n",
              "         4.92517769e-01,  7.89346337e-01, -7.73010314e-01,\n",
              "         2.22800180e-01, -7.11942852e-01, -1.59219593e-01,\n",
              "         7.77194321e-01,  7.29710639e-01, -6.86150253e-01,\n",
              "         2.07595885e-01, -7.38535047e-01,  3.51916134e-01,\n",
              "         9.23309922e-01,  8.55216444e-01, -4.76244718e-01,\n",
              "        -5.64131796e-01, -4.54557650e-02, -7.22775534e-02,\n",
              "        -3.93520921e-01,  7.35952795e-01, -7.61494875e-01,\n",
              "         5.33791721e-01, -3.02950293e-01,  2.08847761e-01,\n",
              "         4.14470658e-02, -1.71077549e-01, -7.25382388e-01,\n",
              "         2.57277638e-01, -5.08267105e-01, -4.91594195e-01,\n",
              "        -2.57079422e-01, -9.14491713e-01,  6.08351305e-02,\n",
              "        -2.18471155e-01, -2.24262476e-05, -1.40799493e-01,\n",
              "         3.66229713e-01, -3.24212372e-01,  5.32478750e-01,\n",
              "        -1.64991960e-01, -2.50921011e-01,  8.56174529e-01,\n",
              "        -2.66797572e-01,  6.66310966e-01, -3.93706292e-01,\n",
              "        -1.78978927e-02,  6.13269687e-01,  9.25831556e-01,\n",
              "         1.25917688e-01,  2.56329745e-01,  4.84753937e-01,\n",
              "         8.42737108e-02, -6.49492163e-03,  4.92194831e-01,\n",
              "         4.16110873e-01,  6.41002476e-01, -5.67712903e-01,\n",
              "         4.26580966e-01,  8.79989043e-02,  3.69508982e-01,\n",
              "         2.61638522e-01, -5.06498039e-01,  3.86741817e-01,\n",
              "        -5.96150696e-01,  1.50666311e-01, -5.05864441e-01,\n",
              "         1.17559910e-01, -5.07060885e-01,  1.50292471e-01,\n",
              "        -9.05507028e-01, -6.49997711e-01, -9.32924390e-01,\n",
              "        -1.24109015e-01,  7.07378864e-01, -6.04575455e-01,\n",
              "         8.38468254e-01,  1.20459184e-01, -6.70822978e-01,\n",
              "         5.81319816e-02, -4.51966196e-01,  7.08753467e-01,\n",
              "         2.90636659e-01,  3.14418286e-01,  4.18508500e-01,\n",
              "         2.90366590e-01,  2.18003869e-01, -4.54928815e-01,\n",
              "        -5.83865941e-01, -8.10929835e-02, -4.16036755e-01,\n",
              "        -3.28977317e-01,  2.53657967e-01,  6.93052232e-01,\n",
              "         8.16455722e-01, -9.07452822e-01,  8.32464278e-01,\n",
              "         3.28053683e-01, -3.50744843e-01,  5.68265840e-02,\n",
              "        -5.11371911e-01, -3.16324294e-01, -4.12472099e-01,\n",
              "         1.62685558e-01,  8.38714004e-01, -6.89560354e-01,\n",
              "        -4.99632716e-01, -6.62567914e-01, -7.69326210e-01,\n",
              "        -7.07988203e-01, -3.47352952e-01, -1.29471049e-01,\n",
              "         3.76460433e-01, -2.99362093e-01,  3.80903482e-04,\n",
              "        -8.86907652e-02, -7.52932310e-01,  2.24148437e-01,\n",
              "        -2.39495277e-01, -4.26478952e-01,  1.57683954e-01,\n",
              "        -1.33814171e-01,  7.42503166e-01, -5.01847029e-01,\n",
              "        -4.32728618e-01,  6.67335033e-01,  6.09876871e-01,\n",
              "        -6.41682791e-03,  8.92996788e-01,  8.71862948e-01,\n",
              "        -6.49951875e-01,  5.43739557e-01, -3.64614815e-01,\n",
              "        -1.45292163e-01,  6.15288496e-01,  8.51679742e-01,\n",
              "         5.43956280e-01, -2.96998441e-01,  1.59459963e-01,\n",
              "        -4.38870370e-01, -8.65797639e-01,  4.67850775e-01,\n",
              "         3.64352077e-01, -6.23963952e-01,  6.83658659e-01,\n",
              "         3.31719458e-01,  6.91811740e-01, -6.69852197e-02,\n",
              "         6.27172053e-01,  3.54397506e-01, -8.10355783e-01,\n",
              "         7.05964804e-01,  2.83613116e-01,  6.27405167e-01,\n",
              "         5.26182950e-01, -4.68803458e-02, -3.71251732e-01,\n",
              "         4.77641642e-01, -4.59824316e-02, -2.37385586e-01,\n",
              "         3.85229170e-01,  7.46995866e-01, -5.92063844e-01,\n",
              "        -4.08020824e-01,  2.45740741e-01,  5.64140677e-01,\n",
              "         4.96024966e-01,  6.92278862e-01, -2.20471710e-01,\n",
              "        -7.67159998e-01, -1.90887064e-01, -2.46278927e-01,\n",
              "        -7.21489727e-01,  9.22479749e-01,  3.80444884e-01,\n",
              "         3.62696260e-01, -8.96795571e-01, -4.12149876e-01,\n",
              "         1.62164897e-01, -6.02094591e-01,  8.92259479e-01,\n",
              "         4.61481571e-01,  4.43438850e-02, -5.07054776e-02,\n",
              "        -6.38765693e-02, -7.04798639e-01, -2.22961918e-01,\n",
              "        -7.62845099e-01, -5.56435764e-01,  4.86411124e-01,\n",
              "         6.82449996e-01,  5.91473997e-01,  7.83796847e-01,\n",
              "         6.68994665e-01, -2.51343697e-01,  1.96108565e-01,\n",
              "        -2.46083185e-01,  4.45794374e-01, -2.82202601e-01,\n",
              "         7.45268524e-01,  1.70187712e-01, -3.66371602e-01,\n",
              "        -9.29344594e-02,  5.07680625e-02,  9.10216663e-03,\n",
              "         3.19690377e-01, -5.50267458e-01,  4.49338228e-01,\n",
              "         7.77661622e-01]], dtype=float32)"
            ]
          },
          "metadata": {
            "tags": []
          },
          "execution_count": 8
        }
      ]
    },
    {
      "cell_type": "code",
      "metadata": {
        "id": "tB7dd4nl3WUj",
        "outputId": "b34fd3fb-8a65-4945-b7a2-5dc9d7a32ac7",
        "colab": {
          "base_uri": "https://localhost:8080/",
          "height": 265
        }
      },
      "source": [
        "_ = plt.hist(np.transpose(a))"
      ],
      "execution_count": 9,
      "outputs": [
        {
          "output_type": "display_data",
          "data": {
            "image/png": "[encoded data removed]",
            "text/plain": [
              "<Figure size 432x288 with 1 Axes>"
            ]
          },
          "metadata": {
            "tags": [],
            "needs_background": "light"
          }
        }
      ]
    },
    {
      "cell_type": "code",
      "metadata": {
        "id": "q7FKQqoZ3a0W"
      },
      "source": [
        ""
      ],
      "execution_count": 9,
      "outputs": []
    }
  ]
}