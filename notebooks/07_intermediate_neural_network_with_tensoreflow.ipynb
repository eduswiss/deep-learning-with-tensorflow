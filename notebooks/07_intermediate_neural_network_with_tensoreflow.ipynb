{
  "nbformat": 4,
  "nbformat_minor": 0,
  "metadata": {
    "colab": {
      "name": "07-intermediate-neural-network-with-tensoreflow.ipynb",
      "provenance": [],
      "collapsed_sections": [],
      "authorship_tag": "ABX9TyOJz08hnAM71NX3OuhA3p1/",
      "include_colab_link": true
    },
    "kernelspec": {
      "name": "python3",
      "display_name": "Python 3"
    }
  },
  "cells": [
    {
      "cell_type": "markdown",
      "metadata": {
        "id": "view-in-github",
        "colab_type": "text"
      },
      "source": [
        "<a href=\"https://colab.research.google.com/github/eduswiss/deep-learning-with-tensorflow/blob/master/notebooks/07_intermediate_neural_network_with_tensoreflow.ipynb\" target=\"_parent\"><img src=\"https://colab.research.google.com/assets/colab-badge.svg\" alt=\"Open In Colab\"/></a>"
      ]
    },
    {
      "cell_type": "markdown",
      "metadata": {
        "id": "EvHInPquXa2l"
      },
      "source": [
        "# Intermediate Neural Network in TensorFlow\n"
      ]
    },
    {
      "cell_type": "markdown",
      "metadata": {
        "id": "B8gBtPGMY-4J"
      },
      "source": [
        "Build an intermediate neural network to classify handwritten digits"
      ]
    },
    {
      "cell_type": "code",
      "metadata": {
        "id": "-xIwW9m_Y4o9"
      },
      "source": [
        "import tensorflow\n",
        "from tensorflow.keras.datasets import mnist\n",
        "from tensorflow.keras.utils import to_categorical\n",
        "from tensorflow.keras.models import Sequential\n",
        "from tensorflow.keras.layers import Dense\n",
        "from tensorflow.keras.optimizers import SGD\n",
        "from matplotlib import pyplot as plt"
      ],
      "execution_count": 1,
      "outputs": []
    },
    {
      "cell_type": "markdown",
      "metadata": {
        "id": "Mo4W72OfZQVD"
      },
      "source": [
        "## Load Data"
      ]
    },
    {
      "cell_type": "code",
      "metadata": {
        "id": "JqPAO0c-ZGzO",
        "outputId": "8453f21b-09c8-4ea8-be3f-9c9f45ff5e3a",
        "colab": {
          "base_uri": "https://localhost:8080/",
          "height": 51
        }
      },
      "source": [
        "(X_train, y_train), (X_valid, y_valid) = mnist.load_data()"
      ],
      "execution_count": 2,
      "outputs": [
        {
          "output_type": "stream",
          "text": [
            "Downloading data from https://storage.googleapis.com/tensorflow/tf-keras-datasets/mnist.npz\n",
            "11493376/11490434 [==============================] - 0s 0us/step\n"
          ],
          "name": "stdout"
        }
      ]
    },
    {
      "cell_type": "markdown",
      "metadata": {
        "id": "fn2xKLpvhG5E"
      },
      "source": [
        "## Preprocess data"
      ]
    },
    {
      "cell_type": "code",
      "metadata": {
        "id": "O8AjXYxuhGN2"
      },
      "source": [
        "X_train = X_train.reshape(60000, 784).astype('float32')\n",
        "X_valid = X_valid.reshape(10000, 784).astype('float32')"
      ],
      "execution_count": 11,
      "outputs": []
    },
    {
      "cell_type": "code",
      "metadata": {
        "id": "_BuNDNcdhNIg"
      },
      "source": [
        "X_train /= 255\n",
        "X_valid /= 255"
      ],
      "execution_count": 12,
      "outputs": []
    },
    {
      "cell_type": "code",
      "metadata": {
        "id": "nNAQyCINhUkY"
      },
      "source": [
        "n_classes = 10\n",
        "y_train = to_categorical(y_train, n_classes)\n",
        "y_valid = to_categorical(y_valid, n_classes)"
      ],
      "execution_count": 13,
      "outputs": []
    },
    {
      "cell_type": "markdown",
      "metadata": {
        "id": "puH7pqG6hdJT"
      },
      "source": [
        "## Design neural network architecture"
      ]
    },
    {
      "cell_type": "markdown",
      "metadata": {
        "id": "gyWRU6GIodmq"
      },
      "source": [
        "Change activation to `relu` and add extra hidden layer"
      ]
    },
    {
      "cell_type": "code",
      "metadata": {
        "id": "PFgQJr5XhaY9"
      },
      "source": [
        "model = Sequential()\n",
        "\n",
        "# hidden layers\n",
        "model.add(Dense(64, activation='relu', input_shape=(784,)))\n",
        "model.add(Dense(64, activation='relu'))\n",
        "\n",
        "# output layer\n",
        "model.add(Dense(10, activation='softmax'))"
      ],
      "execution_count": 14,
      "outputs": []
    },
    {
      "cell_type": "code",
      "metadata": {
        "id": "9U9lJ_QZhgSi",
        "outputId": "47a1e445-d1a2-40f6-fc5a-e395786e382f",
        "colab": {
          "base_uri": "https://localhost:8080/",
          "height": 255
        }
      },
      "source": [
        "model.summary()"
      ],
      "execution_count": 15,
      "outputs": [
        {
          "output_type": "stream",
          "text": [
            "Model: \"sequential\"\n",
            "_________________________________________________________________\n",
            "Layer (type)                 Output Shape              Param #   \n",
            "=================================================================\n",
            "dense (Dense)                (None, 64)                50240     \n",
            "_________________________________________________________________\n",
            "dense_1 (Dense)              (None, 64)                4160      \n",
            "_________________________________________________________________\n",
            "dense_2 (Dense)              (None, 10)                650       \n",
            "=================================================================\n",
            "Total params: 55,050\n",
            "Trainable params: 55,050\n",
            "Non-trainable params: 0\n",
            "_________________________________________________________________\n"
          ],
          "name": "stdout"
        }
      ]
    },
    {
      "cell_type": "markdown",
      "metadata": {
        "id": "XbyA6byWhqNj"
      },
      "source": [
        "## Configure model"
      ]
    },
    {
      "cell_type": "markdown",
      "metadata": {
        "id": "s4zGWW_HpeW5"
      },
      "source": [
        "Change loss function to cross-entroy cost and increase learning rate from `0.01` to `0.1`."
      ]
    },
    {
      "cell_type": "code",
      "metadata": {
        "id": "U3MaFeNzhnkF"
      },
      "source": [
        "model.compile(loss='categorical_crossentropy', \n",
        "              optimizer=SGD(lr=0.1), \n",
        "              metrics=['accuracy'])"
      ],
      "execution_count": 16,
      "outputs": []
    },
    {
      "cell_type": "markdown",
      "metadata": {
        "id": "O4fvlCa4hvXo"
      },
      "source": [
        "## Train!"
      ]
    },
    {
      "cell_type": "markdown",
      "metadata": {
        "id": "R_ZAJcSNp3nC"
      },
      "source": [
        "Reduce number of epochs from `200` to `20`."
      ]
    },
    {
      "cell_type": "code",
      "metadata": {
        "id": "TxMBmnMghtR5",
        "outputId": "3354eb85-876b-4a66-e721-3eb899d631b8",
        "colab": {
          "base_uri": "https://localhost:8080/",
          "height": 714
        }
      },
      "source": [
        "model.fit(X_train, y_train, batch_size=128, epochs=20, verbose=1, validation_data=(X_valid, y_valid))"
      ],
      "execution_count": 17,
      "outputs": [
        {
          "output_type": "stream",
          "text": [
            "Epoch 1/20\n",
            "469/469 [==============================] - 1s 3ms/step - loss: 0.4601 - accuracy: 0.8708 - val_loss: 0.2554 - val_accuracy: 0.9250\n",
            "Epoch 2/20\n",
            "469/469 [==============================] - 1s 2ms/step - loss: 0.2224 - accuracy: 0.9354 - val_loss: 0.1904 - val_accuracy: 0.9437\n",
            "Epoch 3/20\n",
            "469/469 [==============================] - 1s 2ms/step - loss: 0.1708 - accuracy: 0.9503 - val_loss: 0.1579 - val_accuracy: 0.9529\n",
            "Epoch 4/20\n",
            "469/469 [==============================] - 1s 2ms/step - loss: 0.1411 - accuracy: 0.9588 - val_loss: 0.1346 - val_accuracy: 0.9586\n",
            "Epoch 5/20\n",
            "469/469 [==============================] - 1s 2ms/step - loss: 0.1198 - accuracy: 0.9652 - val_loss: 0.1340 - val_accuracy: 0.9593\n",
            "Epoch 6/20\n",
            "469/469 [==============================] - 1s 2ms/step - loss: 0.1041 - accuracy: 0.9698 - val_loss: 0.1232 - val_accuracy: 0.9621\n",
            "Epoch 7/20\n",
            "469/469 [==============================] - 1s 2ms/step - loss: 0.0930 - accuracy: 0.9727 - val_loss: 0.1041 - val_accuracy: 0.9687\n",
            "Epoch 8/20\n",
            "469/469 [==============================] - 1s 2ms/step - loss: 0.0834 - accuracy: 0.9755 - val_loss: 0.0971 - val_accuracy: 0.9712\n",
            "Epoch 9/20\n",
            "469/469 [==============================] - 1s 2ms/step - loss: 0.0758 - accuracy: 0.9780 - val_loss: 0.0903 - val_accuracy: 0.9732\n",
            "Epoch 10/20\n",
            "469/469 [==============================] - 1s 2ms/step - loss: 0.0688 - accuracy: 0.9801 - val_loss: 0.0903 - val_accuracy: 0.9729\n",
            "Epoch 11/20\n",
            "469/469 [==============================] - 1s 2ms/step - loss: 0.0632 - accuracy: 0.9815 - val_loss: 0.0996 - val_accuracy: 0.9703\n",
            "Epoch 12/20\n",
            "469/469 [==============================] - 1s 2ms/step - loss: 0.0581 - accuracy: 0.9832 - val_loss: 0.0960 - val_accuracy: 0.9718\n",
            "Epoch 13/20\n",
            "469/469 [==============================] - 1s 2ms/step - loss: 0.0534 - accuracy: 0.9844 - val_loss: 0.0889 - val_accuracy: 0.9734\n",
            "Epoch 14/20\n",
            "469/469 [==============================] - 1s 2ms/step - loss: 0.0493 - accuracy: 0.9859 - val_loss: 0.0850 - val_accuracy: 0.9740\n",
            "Epoch 15/20\n",
            "469/469 [==============================] - 1s 2ms/step - loss: 0.0453 - accuracy: 0.9870 - val_loss: 0.0911 - val_accuracy: 0.9739\n",
            "Epoch 16/20\n",
            "469/469 [==============================] - 1s 2ms/step - loss: 0.0427 - accuracy: 0.9879 - val_loss: 0.0864 - val_accuracy: 0.9747\n",
            "Epoch 17/20\n",
            "469/469 [==============================] - 1s 2ms/step - loss: 0.0395 - accuracy: 0.9888 - val_loss: 0.0842 - val_accuracy: 0.9764\n",
            "Epoch 18/20\n",
            "469/469 [==============================] - 1s 2ms/step - loss: 0.0364 - accuracy: 0.9897 - val_loss: 0.0827 - val_accuracy: 0.9763\n",
            "Epoch 19/20\n",
            "469/469 [==============================] - 1s 2ms/step - loss: 0.0342 - accuracy: 0.9905 - val_loss: 0.0878 - val_accuracy: 0.9748\n",
            "Epoch 20/20\n",
            "469/469 [==============================] - 1s 2ms/step - loss: 0.0321 - accuracy: 0.9914 - val_loss: 0.0918 - val_accuracy: 0.9739\n"
          ],
          "name": "stdout"
        },
        {
          "output_type": "execute_result",
          "data": {
            "text/plain": [
              "<tensorflow.python.keras.callbacks.History at 0x7f117ef526d8>"
            ]
          },
          "metadata": {
            "tags": []
          },
          "execution_count": 17
        }
      ]
    },
    {
      "cell_type": "markdown",
      "metadata": {
        "id": "XlGnntgai3-N"
      },
      "source": [
        "## Evaluating model performance"
      ]
    },
    {
      "cell_type": "code",
      "metadata": {
        "id": "PUD6mv1Zhy4y",
        "outputId": "72d7923f-cda7-4b13-8719-2f358d10efcb",
        "colab": {
          "base_uri": "https://localhost:8080/",
          "height": 51
        }
      },
      "source": [
        "model.evaluate(X_valid, y_valid)"
      ],
      "execution_count": 18,
      "outputs": [
        {
          "output_type": "stream",
          "text": [
            "313/313 [==============================] - 0s 972us/step - loss: 0.0918 - accuracy: 0.9739\n"
          ],
          "name": "stdout"
        },
        {
          "output_type": "execute_result",
          "data": {
            "text/plain": [
              "[0.09182481467723846, 0.9739000201225281]"
            ]
          },
          "metadata": {
            "tags": []
          },
          "execution_count": 18
        }
      ]
    },
    {
      "cell_type": "markdown",
      "metadata": {
        "id": "pKU7bfWtjB5r"
      },
      "source": [
        "## Performing inference"
      ]
    },
    {
      "cell_type": "code",
      "metadata": {
        "id": "mD4RWqh6i-w_"
      },
      "source": [
        "valid_0 = X_valid[0].reshape(1, 784)"
      ],
      "execution_count": 19,
      "outputs": []
    },
    {
      "cell_type": "code",
      "metadata": {
        "id": "3ehKie5fjFJV",
        "outputId": "a20620fc-3b3a-4e14-f41d-f680fd5f00d7",
        "colab": {
          "base_uri": "https://localhost:8080/",
          "height": 68
        }
      },
      "source": [
        "model.predict(valid_0)"
      ],
      "execution_count": 20,
      "outputs": [
        {
          "output_type": "execute_result",
          "data": {
            "text/plain": [
              "array([[5.2012687e-08, 2.3835250e-06, 9.0726535e-06, 2.0613435e-04,\n",
              "        3.7704320e-09, 1.5240266e-08, 3.4674724e-10, 9.9975580e-01,\n",
              "        1.6895632e-06, 2.4751494e-05]], dtype=float32)"
            ]
          },
          "metadata": {
            "tags": []
          },
          "execution_count": 20
        }
      ]
    },
    {
      "cell_type": "code",
      "metadata": {
        "id": "Zoi_JgKrjKy_",
        "outputId": "d9180f72-a358-44fb-bf78-7408cfedfb60",
        "colab": {
          "base_uri": "https://localhost:8080/",
          "height": 34
        }
      },
      "source": [
        "model.predict_classes(valid_0)"
      ],
      "execution_count": 22,
      "outputs": [
        {
          "output_type": "execute_result",
          "data": {
            "text/plain": [
              "array([7])"
            ]
          },
          "metadata": {
            "tags": []
          },
          "execution_count": 22
        }
      ]
    },
    {
      "cell_type": "code",
      "metadata": {
        "id": "t7-kHOR6qk2Y"
      },
      "source": [
        ""
      ],
      "execution_count": null,
      "outputs": []
    }
  ]
}