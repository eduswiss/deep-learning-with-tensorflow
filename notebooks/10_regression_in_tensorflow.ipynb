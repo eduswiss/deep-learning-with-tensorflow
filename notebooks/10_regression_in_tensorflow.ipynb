{
  "nbformat": 4,
  "nbformat_minor": 0,
  "metadata": {
    "colab": {
      "name": "10-regression-in-tensorflow.ipynb",
      "provenance": [],
      "authorship_tag": "ABX9TyPjd2W8n4j/gN1yEsS78vuF",
      "include_colab_link": true
    },
    "kernelspec": {
      "name": "python3",
      "display_name": "Python 3"
    }
  },
  "cells": [
    {
      "cell_type": "markdown",
      "metadata": {
        "id": "view-in-github",
        "colab_type": "text"
      },
      "source": [
        "<a href=\"https://colab.research.google.com/github/eduswiss/deep-learning-with-tensorflow/blob/master/notebooks/10_regression_in_tensorflow.ipynb\" target=\"_parent\"><img src=\"https://colab.research.google.com/assets/colab-badge.svg\" alt=\"Open In Colab\"/></a>"
      ]
    },
    {
      "cell_type": "markdown",
      "metadata": {
        "id": "rTeZ52cQuOdH"
      },
      "source": [
        "# Regression Example in TensorFlow"
      ]
    },
    {
      "cell_type": "markdown",
      "metadata": {
        "id": "b47ivnmCuVBv"
      },
      "source": [
        "Predicting house prices in Boston, Massachusetts"
      ]
    },
    {
      "cell_type": "markdown",
      "metadata": {
        "id": "AkXlyH6quYU6"
      },
      "source": [
        "## Load dependencies"
      ]
    },
    {
      "cell_type": "code",
      "metadata": {
        "id": "v6VH3sFbuMo_"
      },
      "source": [
        "import numpy as np\n",
        "from tensorflow.keras.datasets import boston_housing # new!\n",
        "from tensorflow.keras.models import Sequential\n",
        "from tensorflow.keras.layers import Dense, Dropout \n",
        "from tensorflow.keras.layers import BatchNormalization \n",
        "from tensorflow.keras.callbacks import ModelCheckpoint # new!\n",
        "import os # new!"
      ],
      "execution_count": 1,
      "outputs": []
    },
    {
      "cell_type": "markdown",
      "metadata": {
        "id": "pJGL4ADKufeZ"
      },
      "source": [
        "## Load data"
      ]
    },
    {
      "cell_type": "code",
      "metadata": {
        "id": "7MJZ2t9Zudby"
      },
      "source": [
        "(X_train, y_train), (X_valid, y_valid) = boston_housing.load_data()"
      ],
      "execution_count": 2,
      "outputs": []
    },
    {
      "cell_type": "code",
      "metadata": {
        "id": "n8aJBIFeujBi",
        "outputId": "18073ea6-572a-46f9-e210-74ec80c47055",
        "colab": {
          "base_uri": "https://localhost:8080/",
          "height": 34
        }
      },
      "source": [
        "X_train.shape"
      ],
      "execution_count": 3,
      "outputs": [
        {
          "output_type": "execute_result",
          "data": {
            "text/plain": [
              "(404, 13)"
            ]
          },
          "metadata": {
            "tags": []
          },
          "execution_count": 3
        }
      ]
    },
    {
      "cell_type": "code",
      "metadata": {
        "id": "SZSuN0E6ulKC",
        "outputId": "4440a876-5dbe-4633-da51-dfade65933e7",
        "colab": {
          "base_uri": "https://localhost:8080/",
          "height": 34
        }
      },
      "source": [
        "X_valid.shape"
      ],
      "execution_count": 4,
      "outputs": [
        {
          "output_type": "execute_result",
          "data": {
            "text/plain": [
              "(102, 13)"
            ]
          },
          "metadata": {
            "tags": []
          },
          "execution_count": 4
        }
      ]
    },
    {
      "cell_type": "code",
      "metadata": {
        "id": "f7zpMDodunlv",
        "outputId": "a4003951-d762-4974-bb8a-5c656e0c08f5",
        "colab": {
          "base_uri": "https://localhost:8080/",
          "height": 68
        }
      },
      "source": [
        "X_train[0]"
      ],
      "execution_count": 5,
      "outputs": [
        {
          "output_type": "execute_result",
          "data": {
            "text/plain": [
              "array([  1.23247,   0.     ,   8.14   ,   0.     ,   0.538  ,   6.142  ,\n",
              "        91.7    ,   3.9769 ,   4.     , 307.     ,  21.     , 396.9    ,\n",
              "        18.72   ])"
            ]
          },
          "metadata": {
            "tags": []
          },
          "execution_count": 5
        }
      ]
    },
    {
      "cell_type": "code",
      "metadata": {
        "id": "xHy22FREuprw",
        "outputId": "9a5a10dd-526e-4319-efc4-a0e344306813",
        "colab": {
          "base_uri": "https://localhost:8080/",
          "height": 34
        }
      },
      "source": [
        "y_train[0]"
      ],
      "execution_count": 6,
      "outputs": [
        {
          "output_type": "execute_result",
          "data": {
            "text/plain": [
              "15.2"
            ]
          },
          "metadata": {
            "tags": []
          },
          "execution_count": 6
        }
      ]
    },
    {
      "cell_type": "markdown",
      "metadata": {
        "id": "s85QFAZEvQB1"
      },
      "source": [
        "## Design neural network architecture"
      ]
    },
    {
      "cell_type": "code",
      "metadata": {
        "id": "M4Z28nLtvIS8"
      },
      "source": [
        "model = Sequential()\n",
        "\n",
        "model.add(Dense(32, input_dim=13, activation='relu'))\n",
        "model.add(BatchNormalization())\n",
        "\n",
        "model.add(Dense(16, activation='relu'))\n",
        "model.add(BatchNormalization())\n",
        "model.add(Dropout(0.2))\n",
        "\n",
        "model.add(Dense(1, activation='linear'))"
      ],
      "execution_count": 7,
      "outputs": []
    },
    {
      "cell_type": "code",
      "metadata": {
        "id": "HCMsm9THvTqV",
        "outputId": "1b1c736b-f0ed-445a-d9d9-9482e788698e",
        "colab": {
          "base_uri": "https://localhost:8080/",
          "height": 357
        }
      },
      "source": [
        "model.summary()"
      ],
      "execution_count": 8,
      "outputs": [
        {
          "output_type": "stream",
          "text": [
            "Model: \"sequential\"\n",
            "_________________________________________________________________\n",
            "Layer (type)                 Output Shape              Param #   \n",
            "=================================================================\n",
            "dense (Dense)                (None, 32)                448       \n",
            "_________________________________________________________________\n",
            "batch_normalization (BatchNo (None, 32)                128       \n",
            "_________________________________________________________________\n",
            "dense_1 (Dense)              (None, 16)                528       \n",
            "_________________________________________________________________\n",
            "batch_normalization_1 (Batch (None, 16)                64        \n",
            "_________________________________________________________________\n",
            "dropout (Dropout)            (None, 16)                0         \n",
            "_________________________________________________________________\n",
            "dense_2 (Dense)              (None, 1)                 17        \n",
            "=================================================================\n",
            "Total params: 1,185\n",
            "Trainable params: 1,089\n",
            "Non-trainable params: 96\n",
            "_________________________________________________________________\n"
          ],
          "name": "stdout"
        }
      ]
    },
    {
      "cell_type": "markdown",
      "metadata": {
        "id": "QTTEIiY3vZu8"
      },
      "source": [
        "## Configure Model"
      ]
    },
    {
      "cell_type": "code",
      "metadata": {
        "id": "dN4b5jvnvXUH"
      },
      "source": [
        "model.compile(loss='mean_squared_error', optimizer='nadam')"
      ],
      "execution_count": 9,
      "outputs": []
    },
    {
      "cell_type": "code",
      "metadata": {
        "id": "L6nzYPaiwTvg"
      },
      "source": [
        "output_dir = 'model_output/'"
      ],
      "execution_count": 10,
      "outputs": []
    },
    {
      "cell_type": "code",
      "metadata": {
        "id": "_tkv9Vn5wkA9"
      },
      "source": [
        "run_name = 'regression_baseline'\n",
        "output_path = output_dir + run_name"
      ],
      "execution_count": 11,
      "outputs": []
    },
    {
      "cell_type": "code",
      "metadata": {
        "id": "cwoC9jeIwuBV"
      },
      "source": [
        "if not os.path.exists(output_path):\n",
        "    os.makedirs(output_path)"
      ],
      "execution_count": 12,
      "outputs": []
    },
    {
      "cell_type": "code",
      "metadata": {
        "id": "fK_MsyL5wyJ_"
      },
      "source": [
        "modelcheckpoint = ModelCheckpoint(output_path + '/weights.{epoch:02d}.hdf5', # decimal integers\n",
        "                                  save_weights_only=True)"
      ],
      "execution_count": 13,
      "outputs": []
    },
    {
      "cell_type": "markdown",
      "metadata": {
        "id": "T0BTMBdZxM_i"
      },
      "source": [
        "## Train!"
      ]
    },
    {
      "cell_type": "code",
      "metadata": {
        "id": "sjbSRsiNxMXv",
        "outputId": "be5fd16a-6cf4-4352-e858-a4b62f759eb7",
        "colab": {
          "base_uri": "https://localhost:8080/",
          "height": 1000
        }
      },
      "source": [
        "model.fit(X_train, y_train, \n",
        "          batch_size=8, epochs=32, verbose=1, \n",
        "          validation_data=(X_valid, y_valid),\n",
        "          callbacks=[modelcheckpoint]) # val loss below 50 is good, 40 great"
      ],
      "execution_count": 14,
      "outputs": [
        {
          "output_type": "stream",
          "text": [
            "Epoch 1/32\n",
            "51/51 [==============================] - 0s 5ms/step - loss: 581.6971 - val_loss: 690.8627\n",
            "Epoch 2/32\n",
            "51/51 [==============================] - 0s 2ms/step - loss: 566.4902 - val_loss: 646.2505\n",
            "Epoch 3/32\n",
            "51/51 [==============================] - 0s 2ms/step - loss: 546.8816 - val_loss: 614.1396\n",
            "Epoch 4/32\n",
            "51/51 [==============================] - 0s 2ms/step - loss: 530.0147 - val_loss: 558.1592\n",
            "Epoch 5/32\n",
            "51/51 [==============================] - 0s 2ms/step - loss: 500.3141 - val_loss: 525.2509\n",
            "Epoch 6/32\n",
            "51/51 [==============================] - 0s 2ms/step - loss: 472.6334 - val_loss: 510.0638\n",
            "Epoch 7/32\n",
            "51/51 [==============================] - 0s 2ms/step - loss: 437.7386 - val_loss: 499.3825\n",
            "Epoch 8/32\n",
            "51/51 [==============================] - 0s 2ms/step - loss: 397.9904 - val_loss: 516.3551\n",
            "Epoch 9/32\n",
            "51/51 [==============================] - 0s 2ms/step - loss: 357.6762 - val_loss: 527.5195\n",
            "Epoch 10/32\n",
            "51/51 [==============================] - 0s 2ms/step - loss: 313.9005 - val_loss: 530.5897\n",
            "Epoch 11/32\n",
            "51/51 [==============================] - 0s 2ms/step - loss: 270.0108 - val_loss: 645.4587\n",
            "Epoch 12/32\n",
            "51/51 [==============================] - 0s 2ms/step - loss: 227.9760 - val_loss: 276.7909\n",
            "Epoch 13/32\n",
            "51/51 [==============================] - 0s 2ms/step - loss: 198.1374 - val_loss: 395.3557\n",
            "Epoch 14/32\n",
            "51/51 [==============================] - 0s 2ms/step - loss: 168.5816 - val_loss: 255.2457\n",
            "Epoch 15/32\n",
            "51/51 [==============================] - 0s 2ms/step - loss: 144.2428 - val_loss: 165.4783\n",
            "Epoch 16/32\n",
            "51/51 [==============================] - 0s 2ms/step - loss: 120.4497 - val_loss: 196.3496\n",
            "Epoch 17/32\n",
            "51/51 [==============================] - 0s 2ms/step - loss: 95.9341 - val_loss: 115.5900\n",
            "Epoch 18/32\n",
            "51/51 [==============================] - 0s 2ms/step - loss: 83.0721 - val_loss: 75.9537\n",
            "Epoch 19/32\n",
            "51/51 [==============================] - 0s 2ms/step - loss: 70.1089 - val_loss: 68.2347\n",
            "Epoch 20/32\n",
            "51/51 [==============================] - 0s 2ms/step - loss: 65.3559 - val_loss: 49.9541\n",
            "Epoch 21/32\n",
            "51/51 [==============================] - 0s 2ms/step - loss: 57.9860 - val_loss: 35.7813\n",
            "Epoch 22/32\n",
            "51/51 [==============================] - 0s 2ms/step - loss: 52.1384 - val_loss: 36.2797\n",
            "Epoch 23/32\n",
            "51/51 [==============================] - 0s 2ms/step - loss: 51.5469 - val_loss: 61.8167\n",
            "Epoch 24/32\n",
            "51/51 [==============================] - 0s 2ms/step - loss: 50.6165 - val_loss: 31.9177\n",
            "Epoch 25/32\n",
            "51/51 [==============================] - 0s 2ms/step - loss: 49.2817 - val_loss: 38.0853\n",
            "Epoch 26/32\n",
            "51/51 [==============================] - 0s 2ms/step - loss: 47.2540 - val_loss: 35.8396\n",
            "Epoch 27/32\n",
            "51/51 [==============================] - 0s 2ms/step - loss: 57.1450 - val_loss: 30.2192\n",
            "Epoch 28/32\n",
            "51/51 [==============================] - 0s 2ms/step - loss: 44.6222 - val_loss: 57.9587\n",
            "Epoch 29/32\n",
            "51/51 [==============================] - 0s 2ms/step - loss: 44.0400 - val_loss: 39.0082\n",
            "Epoch 30/32\n",
            "51/51 [==============================] - 0s 2ms/step - loss: 42.7351 - val_loss: 40.4579\n",
            "Epoch 31/32\n",
            "51/51 [==============================] - 0s 2ms/step - loss: 44.0494 - val_loss: 37.1193\n",
            "Epoch 32/32\n",
            "51/51 [==============================] - 0s 2ms/step - loss: 46.4963 - val_loss: 46.6326\n"
          ],
          "name": "stdout"
        },
        {
          "output_type": "execute_result",
          "data": {
            "text/plain": [
              "<tensorflow.python.keras.callbacks.History at 0x7f78c0e9e1d0>"
            ]
          },
          "metadata": {
            "tags": []
          },
          "execution_count": 14
        }
      ]
    },
    {
      "cell_type": "markdown",
      "metadata": {
        "id": "PKRdpFPxx1B2"
      },
      "source": [
        "## Performing inference"
      ]
    },
    {
      "cell_type": "code",
      "metadata": {
        "id": "qsIhS3gKxfD0"
      },
      "source": [
        "model.load_weights(output_path + '/weights.28.hdf5')"
      ],
      "execution_count": 15,
      "outputs": []
    },
    {
      "cell_type": "code",
      "metadata": {
        "id": "MVuMhMXfyBuX",
        "outputId": "61377ac6-6d25-4f1d-851a-8c258634ca45",
        "colab": {
          "base_uri": "https://localhost:8080/",
          "height": 68
        }
      },
      "source": [
        "X_valid[42]"
      ],
      "execution_count": 16,
      "outputs": [
        {
          "output_type": "execute_result",
          "data": {
            "text/plain": [
              "array([  9.32909,   0.     ,  18.1    ,   0.     ,   0.713  ,   6.185  ,\n",
              "        98.7    ,   2.2616 ,  24.     , 666.     ,  20.2    , 396.9    ,\n",
              "        18.13   ])"
            ]
          },
          "metadata": {
            "tags": []
          },
          "execution_count": 16
        }
      ]
    },
    {
      "cell_type": "code",
      "metadata": {
        "id": "enBNLf2OyEeP",
        "outputId": "bd015e15-e518-415d-92a1-39718818f7b3",
        "colab": {
          "base_uri": "https://localhost:8080/",
          "height": 34
        }
      },
      "source": [
        "y_valid[42]"
      ],
      "execution_count": 17,
      "outputs": [
        {
          "output_type": "execute_result",
          "data": {
            "text/plain": [
              "14.1"
            ]
          },
          "metadata": {
            "tags": []
          },
          "execution_count": 17
        }
      ]
    },
    {
      "cell_type": "code",
      "metadata": {
        "id": "XbqVFm31yG2m",
        "outputId": "9e53af56-3273-4211-d5dd-99a79e5c856a",
        "colab": {
          "base_uri": "https://localhost:8080/",
          "height": 34
        }
      },
      "source": [
        "model.predict(np.reshape(X_valid[42], [1, 13]))"
      ],
      "execution_count": 18,
      "outputs": [
        {
          "output_type": "execute_result",
          "data": {
            "text/plain": [
              "array([[13.389759]], dtype=float32)"
            ]
          },
          "metadata": {
            "tags": []
          },
          "execution_count": 18
        }
      ]
    },
    {
      "cell_type": "code",
      "metadata": {
        "id": "XIbVk1tmyQne"
      },
      "source": [
        ""
      ],
      "execution_count": null,
      "outputs": []
    }
  ]
}